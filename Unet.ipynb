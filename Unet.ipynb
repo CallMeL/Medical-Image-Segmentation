{
  "nbformat": 4,
  "nbformat_minor": 0,
  "metadata": {
    "colab": {
      "name": "Unet-0.ipynb",
      "provenance": [],
      "collapsed_sections": [
        "N6GzzYJHD7el",
        "cbzb3ie_KoE-",
        "HuW-uLMgKzUi",
        "qncDcL-gYmNN",
        "m2J_ii_cL0gz"
      ],
      "mount_file_id": "1ke8hjMPhkZn4vzyTzHmeV9h-i4STmdFt",
      "authorship_tag": "ABX9TyPou6D+h7r1DmHZf0NFrgXP",
      "include_colab_link": true
    },
    "kernelspec": {
      "name": "python3",
      "display_name": "Python 3"
    },
    "language_info": {
      "name": "python"
    },
    "accelerator": "GPU"
  },
  "cells": [
    {
      "cell_type": "markdown",
      "metadata": {
        "id": "view-in-github",
        "colab_type": "text"
      },
      "source": [
        "<a href=\"https://colab.research.google.com/github/CallMeL/Medical-Image-Segmentation/blob/main/Unet.ipynb\" target=\"_parent\"><img src=\"https://colab.research.google.com/assets/colab-badge.svg\" alt=\"Open In Colab\"/></a>"
      ]
    },
    {
      "cell_type": "markdown",
      "source": [
        "# 数据集准备\n",
        "在def __init__(self,path)中的seglist、imglist根据自己目录文件来确定。\n"
      ],
      "metadata": {
        "id": "N6GzzYJHD7el"
      }
    },
    {
      "cell_type": "code",
      "execution_count": 35,
      "metadata": {
        "id": "KBWlg3BODC4d"
      },
      "outputs": [],
      "source": [
        "import os\n",
        "from torch.utils.data import Dataset\n",
        "from torch.utils import *\n",
        "from torchvision import transforms\n",
        "from PIL import Image"
      ]
    },
    {
      "cell_type": "code",
      "source": [
        "def keep_image_size_open(path, size=(256, 256)):\n",
        "    img = Image.open(path)\n",
        "    temp = max(img.size)\n",
        "    mask = Image.new('RGB', (temp, temp), (0, 0, 0))\n",
        "    mask.paste(img, (0, 0))\n",
        "    mask = mask.resize(size)\n",
        "    return mask"
      ],
      "metadata": {
        "id": "sWrqqlapRSHr"
      },
      "execution_count": 36,
      "outputs": []
    },
    {
      "cell_type": "code",
      "source": [
        "transform = transforms.Compose([\n",
        "                                transforms.Grayscale(num_output_channels=3),\n",
        "                                transforms.ToTensor()])"
      ],
      "metadata": {
        "id": "JnKQ0DZmHHpU"
      },
      "execution_count": 37,
      "outputs": []
    },
    {
      "cell_type": "markdown",
      "source": [
        "## 眼球的数据集\n",
        "path = /content/drive/MyDrive/CENet/CE-Net/dataset/DRIVE/training"
      ],
      "metadata": {
        "id": "UfbYnFL5eOjj"
      }
    },
    {
      "cell_type": "code",
      "source": [
        "class myDataset(Dataset):\n",
        "  def __init__(self,path):\n",
        "    self.path = path \n",
        "    self.seglist = os.listdir(os.path.join(path,'1st_manual'))\n",
        "    self.imglist = os.listdir(os.path.join(path,'images'))\n",
        "\n",
        "\n",
        "  def __len__(self):\n",
        "    return len(self.seglist)\n",
        "  \n",
        "  def __getitem__(self,index):\n",
        "    segment_name = self.seglist[index] #\n",
        "    segment_path = os.path.join(self.path,'1st_manual',segment_name)\n",
        "    image_name = self.imglist[index]\n",
        "    image_path = os.path.join(self.path,'images',image_name)\n",
        "    segment = keep_image_size_open(segment_path)\n",
        "    image = keep_image_size_open(image_path)\n",
        "    return transform(segment),transform(image)"
      ],
      "metadata": {
        "id": "loHCqxr-EI_E"
      },
      "execution_count": 38,
      "outputs": []
    },
    {
      "cell_type": "code",
      "source": [
        "data = myDataset('/content/drive/MyDrive/CENet/CE-Net/dataset/DRIVE/training')"
      ],
      "metadata": {
        "id": "sbCAzxvrIs9m"
      },
      "execution_count": 39,
      "outputs": []
    },
    {
      "cell_type": "code",
      "source": [
        "print(data[0][0].shape) #已经分割的\n",
        "print(data[0][1].shape) #原始图像"
      ],
      "metadata": {
        "colab": {
          "base_uri": "https://localhost:8080/"
        },
        "id": "-yGeApt1JRCG",
        "outputId": "34ff1b76-20c1-43a0-af85-0c53bca78e88"
      },
      "execution_count": 40,
      "outputs": [
        {
          "output_type": "stream",
          "name": "stdout",
          "text": [
            "torch.Size([3, 256, 256])\n",
            "torch.Size([3, 256, 256])\n"
          ]
        }
      ]
    },
    {
      "cell_type": "markdown",
      "source": [
        "## 体细胞数据集\n",
        "path = /content/drive/MyDrive/unet/data/train"
      ],
      "metadata": {
        "id": "Ca0RXb8_eUip"
      }
    },
    {
      "cell_type": "code",
      "source": [
        "class myDataset(Dataset):\n",
        "  def __init__(self,path):\n",
        "    self.path = path \n",
        "    self.seglist = os.listdir(os.path.join(path,'1st_manual'))\n",
        "    self.imglist = os.listdir(os.path.join(path,'images'))\n",
        "\n",
        "\n",
        "  def __len__(self):\n",
        "    return len(self.seglist)\n",
        "  \n",
        "  def __getitem__(self,index):\n",
        "    segment_name = self.seglist[index] #\n",
        "    segment_path = os.path.join(self.path,'1st_manual',segment_name)\n",
        "    image_name = self.imglist[index]\n",
        "    image_path = os.path.join(self.path,'images',image_name)\n",
        "    segment = keep_image_size_open(segment_path)\n",
        "    image = keep_image_size_open(image_path)\n",
        "    return transform(segment),transform(image)"
      ],
      "metadata": {
        "id": "g6adcdJmefNx"
      },
      "execution_count": null,
      "outputs": []
    },
    {
      "cell_type": "markdown",
      "source": [
        "# network\n",
        "这里是三个模块：卷积、上采样、下采样\n",
        "\n",
        "左边是：【卷积、卷积】、下采样\n",
        "\n",
        "右边是：【卷积、卷积】、上采样\n"
      ],
      "metadata": {
        "id": "cbzb3ie_KoE-"
      }
    },
    {
      "cell_type": "markdown",
      "source": [
        "## 卷积模块"
      ],
      "metadata": {
        "id": "HuW-uLMgKzUi"
      }
    },
    {
      "cell_type": "code",
      "source": [
        "import torch\n",
        "from torch import nn\n",
        "from torch.nn import functional as F"
      ],
      "metadata": {
        "id": "FGOK_DlVLtfX"
      },
      "execution_count": 41,
      "outputs": []
    },
    {
      "cell_type": "code",
      "source": [
        "class Conv_Block(nn.Module):\n",
        "    def __init__(self,in_channel,out_channel):\n",
        "        super(Conv_Block, self).__init__()\n",
        "        self.layer=nn.Sequential(\n",
        "            nn.Conv2d(in_channel,out_channel,3,1,1,padding_mode='reflect',bias=False),\n",
        "            nn.BatchNorm2d(out_channel),\n",
        "            nn.Dropout2d(0.3),\n",
        "            nn.LeakyReLU(),\n",
        "            nn.Conv2d(out_channel, out_channel, 3, 1, 1, padding_mode='reflect', bias=False),\n",
        "            nn.BatchNorm2d(out_channel),\n",
        "            nn.Dropout2d(0.3),\n",
        "            nn.LeakyReLU()\n",
        "        )\n",
        "    def forward(self,x):\n",
        "        return self.layer(x)"
      ],
      "metadata": {
        "id": "TQdshRqkLu-U"
      },
      "execution_count": 42,
      "outputs": []
    },
    {
      "cell_type": "markdown",
      "source": [
        "## 下采样模块\n",
        "**原论文中用的是max pooling，但这样信息丢失过多，故改用为3*3conv，步长为2**"
      ],
      "metadata": {
        "id": "y0zgmIvKLq35"
      }
    },
    {
      "cell_type": "code",
      "source": [
        "class DownSample(nn.Module):\n",
        "    def __init__(self,channel):\n",
        "        super(DownSample, self).__init__()\n",
        "        self.layer=nn.Sequential(\n",
        "            nn.Conv2d(channel,channel,3,2,1,padding_mode='reflect',bias=False),\n",
        "            nn.BatchNorm2d(channel),\n",
        "            nn.LeakyReLU()\n",
        "        )\n",
        "    def forward(self,x):\n",
        "        return self.layer(x)"
      ],
      "metadata": {
        "id": "zrgO81gSLxNQ"
      },
      "execution_count": 43,
      "outputs": []
    },
    {
      "cell_type": "markdown",
      "source": [
        "## 上采样模块\n",
        "使用插值法\n",
        "\n",
        "要和对应的左边的图拼接之后再卷积\n",
        "\n",
        "torch.cat((out,feature_map),dim=1)就是在做这样一件事"
      ],
      "metadata": {
        "id": "lNLRq9_kLuo2"
      }
    },
    {
      "cell_type": "code",
      "source": [
        "class UpSample(nn.Module):\n",
        "    def __init__(self,channel):\n",
        "        super(UpSample, self).__init__()\n",
        "        self.layer=nn.Conv2d(channel,channel//2,1,1)\n",
        "    def forward(self,x,feature_map):\n",
        "        up=F.interpolate(x,scale_factor=2,mode='nearest')\n",
        "        out=self.layer(up)\n",
        "        return torch.cat((out,feature_map),dim=1)\n"
      ],
      "metadata": {
        "id": "QiHiHQFLLyU8"
      },
      "execution_count": 44,
      "outputs": []
    },
    {
      "cell_type": "markdown",
      "source": [
        "## UNET"
      ],
      "metadata": {
        "id": "y_uXIOMtS4KQ"
      }
    },
    {
      "cell_type": "code",
      "source": [
        "class UNet(nn.Module):\n",
        "    def __init__(self):\n",
        "        super(UNet, self).__init__()\n",
        "        self.c1=Conv_Block(3,64)\n",
        "        self.d1=DownSample(64)\n",
        "        self.c2=Conv_Block(64,128)\n",
        "        self.d2=DownSample(128)\n",
        "        self.c3=Conv_Block(128,256)\n",
        "        self.d3=DownSample(256)\n",
        "        self.c4=Conv_Block(256,512)\n",
        "        self.d4=DownSample(512)\n",
        "        self.c5=Conv_Block(512,1024)\n",
        "        self.u1=UpSample(1024)\n",
        "        self.c6=Conv_Block(1024,512)\n",
        "        self.u2 = UpSample(512)\n",
        "        self.c7 = Conv_Block(512, 256)\n",
        "        self.u3 = UpSample(256)\n",
        "        self.c8 = Conv_Block(256, 128)\n",
        "        self.u4 = UpSample(128)\n",
        "        self.c9 = Conv_Block(128, 64)\n",
        "        self.out=nn.Conv2d(64,3,3,1,1)\n",
        "        self.Th=nn.Sigmoid()\n",
        "\n",
        "    def forward(self,x):\n",
        "        R1=self.c1(x)\n",
        "        R2=self.c2(self.d1(R1))\n",
        "        R3 = self.c3(self.d2(R2))\n",
        "        R4 = self.c4(self.d3(R3))\n",
        "        R5 = self.c5(self.d4(R4))\n",
        "        O1=self.c6(self.u1(R5,R4))\n",
        "        O2 = self.c7(self.u2(O1, R3))\n",
        "        O3 = self.c8(self.u3(O2, R2))\n",
        "        O4 = self.c9(self.u4(O3, R1))\n",
        "\n",
        "        return self.Th(self.out(O4))"
      ],
      "metadata": {
        "id": "pKmQi15wL0th"
      },
      "execution_count": 45,
      "outputs": []
    },
    {
      "cell_type": "markdown",
      "source": [
        "测试网络是否正确"
      ],
      "metadata": {
        "id": "7UsRTddfbL5A"
      }
    },
    {
      "cell_type": "code",
      "source": [
        "if __name__ == '__main__':\n",
        "    x=torch.randn(2,3,256,256)\n",
        "    net=UNet()\n",
        "    print(net(x).shape)"
      ],
      "metadata": {
        "colab": {
          "base_uri": "https://localhost:8080/"
        },
        "id": "6LAlcqZlLoNR",
        "outputId": "36e5764a-845f-4d9a-cf19-7c4cce7a2875"
      },
      "execution_count": 46,
      "outputs": [
        {
          "output_type": "stream",
          "name": "stdout",
          "text": [
            "torch.Size([2, 3, 256, 256])\n"
          ]
        }
      ]
    },
    {
      "cell_type": "markdown",
      "source": [
        "# training"
      ],
      "metadata": {
        "id": "IaPExEJELxQZ"
      }
    },
    {
      "cell_type": "markdown",
      "source": [
        "## 前期一些准备\n",
        "主要是给出路径"
      ],
      "metadata": {
        "id": "qncDcL-gYmNN"
      }
    },
    {
      "cell_type": "code",
      "source": [
        "import torch\n",
        "from torch.utils.data import DataLoader\n",
        "from torchvision.utils import save_image"
      ],
      "metadata": {
        "id": "KaVdLCuLL0-6"
      },
      "execution_count": 47,
      "outputs": []
    },
    {
      "cell_type": "code",
      "source": [
        "device = 'cpu'"
      ],
      "metadata": {
        "id": "UgWkDjn7ecjf"
      },
      "execution_count": 48,
      "outputs": []
    },
    {
      "cell_type": "code",
      "source": [
        "data_path = '/content/drive/MyDrive/CENet/CE-Net/dataset/DRIVE/training'\n",
        "weight_path = '/content/drive/MyDrive/Unet0/weight'\n",
        "save_path_all = '/content/drive/MyDrive/Unet0/saveImageALL'\n",
        "save_path_one = '/content/drive/MyDrive/Unet0/saveImageOne'"
      ],
      "metadata": {
        "id": "c99pG3D1cL3U"
      },
      "execution_count": 49,
      "outputs": []
    },
    {
      "cell_type": "code",
      "source": [
        "net = UNet()\n",
        "data_loader = DataLoader(myDataset(data_path),batch_size = 2,shuffle = True)"
      ],
      "metadata": {
        "id": "2tsrjIVhRDJe"
      },
      "execution_count": 50,
      "outputs": []
    },
    {
      "cell_type": "code",
      "source": [
        "if os.path.exists(weight_path):\n",
        "  net.load_state_dict(torch.load(weight_path))\n",
        "  print('successful load weight！')\n",
        "else:\n",
        "  print('not successful load weight')"
      ],
      "metadata": {
        "colab": {
          "base_uri": "https://localhost:8080/"
        },
        "id": "LGHgXDg2cn7E",
        "outputId": "b101d511-8bfa-4c66-93fa-d752878d4178"
      },
      "execution_count": 51,
      "outputs": [
        {
          "output_type": "stream",
          "name": "stdout",
          "text": [
            "successful load weight！\n"
          ]
        }
      ]
    },
    {
      "cell_type": "code",
      "source": [
        "opt = torch.optim.Adam(net.parameters())\n",
        "loss_fun = nn.BCELoss()"
      ],
      "metadata": {
        "id": "3OSymtF2du5z"
      },
      "execution_count": 52,
      "outputs": []
    },
    {
      "cell_type": "markdown",
      "source": [
        "## 训练"
      ],
      "metadata": {
        "id": "KZ52_NurYwXa"
      }
    },
    {
      "cell_type": "code",
      "source": [
        "epoch = 1\n",
        "while True:\n",
        "  for i,(image,segment_image) in enumerate(data_loader):\n",
        "    image,segment_image = image.to(device),segment_image.to(device)\n",
        "\n",
        "    out_image = net(image)\n",
        "    train_loss = loss_fun(out_image,segment_image)\n",
        "\n",
        "    opt.zero_grad()\n",
        "    train_loss.backward()\n",
        "    opt.step()\n",
        "\n",
        "    if i%5==0:\n",
        "      print(f'{epoch}-{i}-train_loss===>>{train_loss.item()}')\n",
        "\n",
        "    if i%10==0:\n",
        "      torch.save(net.state_dict(),weight_path)\n",
        "\n",
        "    _image = image[0]\n",
        "    _segment_image = segment_image[0]\n",
        "    _out_image = out_image[0]\n",
        "\n",
        "    img=torch.stack([_image,_segment_image,_out_image],dim=0)\n",
        "\n",
        "    save_image(img,f'{save_path_all}/{i}.png')\n",
        "    save_image(_out_image,f'{save_path_one}/{i}.png')\n",
        "\n",
        "  epoch+=1"
      ],
      "metadata": {
        "colab": {
          "base_uri": "https://localhost:8080/",
          "height": 455
        },
        "id": "-SZm_CP1eJqk",
        "outputId": "da39921c-4e13-4a3f-9069-0757806ab0aa"
      },
      "execution_count": 53,
      "outputs": [
        {
          "output_type": "stream",
          "name": "stdout",
          "text": [
            "1-0-train_loss===>>0.5825201869010925\n",
            "1-5-train_loss===>>0.5578874945640564\n",
            "2-0-train_loss===>>0.5793007612228394\n"
          ]
        },
        {
          "output_type": "error",
          "ename": "KeyboardInterrupt",
          "evalue": "ignored",
          "traceback": [
            "\u001b[0;31m---------------------------------------------------------------------------\u001b[0m",
            "\u001b[0;31mKeyboardInterrupt\u001b[0m                         Traceback (most recent call last)",
            "\u001b[0;32m<ipython-input-53-edf13ded9b2d>\u001b[0m in \u001b[0;36m<module>\u001b[0;34m()\u001b[0m\n\u001b[1;32m      8\u001b[0m \u001b[0;34m\u001b[0m\u001b[0m\n\u001b[1;32m      9\u001b[0m     \u001b[0mopt\u001b[0m\u001b[0;34m.\u001b[0m\u001b[0mzero_grad\u001b[0m\u001b[0;34m(\u001b[0m\u001b[0;34m)\u001b[0m\u001b[0;34m\u001b[0m\u001b[0;34m\u001b[0m\u001b[0m\n\u001b[0;32m---> 10\u001b[0;31m     \u001b[0mtrain_loss\u001b[0m\u001b[0;34m.\u001b[0m\u001b[0mbackward\u001b[0m\u001b[0;34m(\u001b[0m\u001b[0;34m)\u001b[0m\u001b[0;34m\u001b[0m\u001b[0;34m\u001b[0m\u001b[0m\n\u001b[0m\u001b[1;32m     11\u001b[0m     \u001b[0mopt\u001b[0m\u001b[0;34m.\u001b[0m\u001b[0mstep\u001b[0m\u001b[0;34m(\u001b[0m\u001b[0;34m)\u001b[0m\u001b[0;34m\u001b[0m\u001b[0;34m\u001b[0m\u001b[0m\n\u001b[1;32m     12\u001b[0m \u001b[0;34m\u001b[0m\u001b[0m\n",
            "\u001b[0;32m/usr/local/lib/python3.7/dist-packages/torch/_tensor.py\u001b[0m in \u001b[0;36mbackward\u001b[0;34m(self, gradient, retain_graph, create_graph, inputs)\u001b[0m\n\u001b[1;32m    305\u001b[0m                 \u001b[0mcreate_graph\u001b[0m\u001b[0;34m=\u001b[0m\u001b[0mcreate_graph\u001b[0m\u001b[0;34m,\u001b[0m\u001b[0;34m\u001b[0m\u001b[0;34m\u001b[0m\u001b[0m\n\u001b[1;32m    306\u001b[0m                 inputs=inputs)\n\u001b[0;32m--> 307\u001b[0;31m         \u001b[0mtorch\u001b[0m\u001b[0;34m.\u001b[0m\u001b[0mautograd\u001b[0m\u001b[0;34m.\u001b[0m\u001b[0mbackward\u001b[0m\u001b[0;34m(\u001b[0m\u001b[0mself\u001b[0m\u001b[0;34m,\u001b[0m \u001b[0mgradient\u001b[0m\u001b[0;34m,\u001b[0m \u001b[0mretain_graph\u001b[0m\u001b[0;34m,\u001b[0m \u001b[0mcreate_graph\u001b[0m\u001b[0;34m,\u001b[0m \u001b[0minputs\u001b[0m\u001b[0;34m=\u001b[0m\u001b[0minputs\u001b[0m\u001b[0;34m)\u001b[0m\u001b[0;34m\u001b[0m\u001b[0;34m\u001b[0m\u001b[0m\n\u001b[0m\u001b[1;32m    308\u001b[0m \u001b[0;34m\u001b[0m\u001b[0m\n\u001b[1;32m    309\u001b[0m     \u001b[0;32mdef\u001b[0m \u001b[0mregister_hook\u001b[0m\u001b[0;34m(\u001b[0m\u001b[0mself\u001b[0m\u001b[0;34m,\u001b[0m \u001b[0mhook\u001b[0m\u001b[0;34m)\u001b[0m\u001b[0;34m:\u001b[0m\u001b[0;34m\u001b[0m\u001b[0;34m\u001b[0m\u001b[0m\n",
            "\u001b[0;32m/usr/local/lib/python3.7/dist-packages/torch/autograd/__init__.py\u001b[0m in \u001b[0;36mbackward\u001b[0;34m(tensors, grad_tensors, retain_graph, create_graph, grad_variables, inputs)\u001b[0m\n\u001b[1;32m    154\u001b[0m     Variable._execution_engine.run_backward(\n\u001b[1;32m    155\u001b[0m         \u001b[0mtensors\u001b[0m\u001b[0;34m,\u001b[0m \u001b[0mgrad_tensors_\u001b[0m\u001b[0;34m,\u001b[0m \u001b[0mretain_graph\u001b[0m\u001b[0;34m,\u001b[0m \u001b[0mcreate_graph\u001b[0m\u001b[0;34m,\u001b[0m \u001b[0minputs\u001b[0m\u001b[0;34m,\u001b[0m\u001b[0;34m\u001b[0m\u001b[0;34m\u001b[0m\u001b[0m\n\u001b[0;32m--> 156\u001b[0;31m         allow_unreachable=True, accumulate_grad=True)  # allow_unreachable flag\n\u001b[0m\u001b[1;32m    157\u001b[0m \u001b[0;34m\u001b[0m\u001b[0m\n\u001b[1;32m    158\u001b[0m \u001b[0;34m\u001b[0m\u001b[0m\n",
            "\u001b[0;31mKeyboardInterrupt\u001b[0m: "
          ]
        }
      ]
    },
    {
      "cell_type": "code",
      "source": [
        "import matplotlib.pyplot as plt"
      ],
      "metadata": {
        "id": "1SG2NvrdT2fu"
      },
      "execution_count": 19,
      "outputs": []
    },
    {
      "cell_type": "code",
      "source": [
        "temp = Image.open('/content/drive/MyDrive/Unet0/saveImageOne/0.png')\n",
        "\n",
        "plt.imshow(temp, cmap='gray')\n",
        "plt.show()"
      ],
      "metadata": {
        "colab": {
          "base_uri": "https://localhost:8080/",
          "height": 269
        },
        "id": "jx9Hw3CITHn5",
        "outputId": "53ddd578-b90f-42df-8196-67d4ac043a81"
      },
      "execution_count": 28,
      "outputs": [
        {
          "output_type": "display_data",
          "data": {
            "image/png": "[encoded data removed]",
            "text/plain": [
              "<Figure size 432x288 with 1 Axes>"
            ]
          },
          "metadata": {
            "needs_background": "light"
          }
        }
      ]
    },
    {
      "cell_type": "code",
      "source": [
        "transform1 = transforms.Grayscale()\n",
        "temp = transform(temp)"
      ],
      "metadata": {
        "id": "lMVvG9btaEFd"
      },
      "execution_count": 29,
      "outputs": []
    },
    {
      "cell_type": "code",
      "source": [
        "save_image(temp,f'/content/drive/MyDrive/Unet0/saveImageOne/00.png')"
      ],
      "metadata": {
        "id": "EhmMIIJSap5-"
      },
      "execution_count": 33,
      "outputs": []
    },
    {
      "cell_type": "markdown",
      "source": [
        "# test"
      ],
      "metadata": {
        "id": "m2J_ii_cL0gz"
      }
    },
    {
      "cell_type": "code",
      "source": [
        ""
      ],
      "metadata": {
        "id": "Smz8lsb3L2yQ"
      },
      "execution_count": null,
      "outputs": []
    }
  ]
}